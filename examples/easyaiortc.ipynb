{
  "nbformat": 4,
  "nbformat_minor": 0,
  "metadata": {
    "colab": {
      "name": "easyaiortc.ipynb",
      "private_outputs": true,
      "provenance": [],
      "collapsed_sections": []
    },
    "kernelspec": {
      "name": "python3",
      "display_name": "Python 3"
    },
    "language_info": {
      "name": "python"
    }
  },
  "cells": [
    {
      "cell_type": "markdown",
      "metadata": {
        "id": "n3cm5QJdnSCc"
      },
      "source": [
        "# easyaiortc\n",
        "これはGoogle Colabとの映像通信をリアルタイムに行うためのライブラリです。  \n",
        "これによりGoogle Colab上での映像のプレビューや、Webカメラからの映像送信が容易になります。  \n",
        "内部ではaiortcを用いてAppRTC上にルームを作成し、その上で映像の送受信を行なっています。  "
      ]
    },
    {
      "cell_type": "markdown",
      "metadata": {
        "id": "4v0o_vsyogZQ"
      },
      "source": [
        "## 1. easyaiortcのインストール"
      ]
    },
    {
      "cell_type": "code",
      "metadata": {
        "id": "e5gldPF0aOdN"
      },
      "source": [
        "!apt install libavdevice-dev libavfilter-dev libopus-dev libvpx-dev pkg-config\n",
        "!pip install git+https://github.com/wakewakame/easyaiortc.git"
      ],
      "execution_count": null,
      "outputs": []
    },
    {
      "cell_type": "markdown",
      "metadata": {
        "id": "1x3xD5zPoyoo"
      },
      "source": [
        "## 2. Webカメラの映像を回転するサンプルプログラム"
      ]
    },
    {
      "cell_type": "code",
      "metadata": {
        "id": "8ZsvRtxLjIeg"
      },
      "source": [
        "import easyaiortc\n",
        "import cv2\n",
        "\n",
        "# 接続の開始\n",
        "rtc = easyaiortc.EasyAppRTC(preview=True, width=1280, height=720)\n",
        "\n",
        "# 回転角度\n",
        "deg = 0\n",
        "\n",
        "try:\n",
        "    # 接続されている間はループ\n",
        "    while rtc.is_alive():\n",
        "        # 映像の受信\n",
        "        img = rtc.get()\n",
        "        if img is None:\n",
        "            continue\n",
        "\n",
        "        # 受信した映像を回転\n",
        "        n_h, n_w, n_ch = img.shape\n",
        "        M = cv2.getRotationMatrix2D((n_w / 2, n_h / 2), deg, 1)\n",
        "        img = cv2.warpAffine(img, M, (n_w, n_h))\n",
        "        deg += 1\n",
        "\n",
        "        # 回転した映像を送信\n",
        "        rtc.put(img)\n",
        "\n",
        "# Ctrl+Zで終了\n",
        "except KeyboardInterrupt:\n",
        "    pass"
      ],
      "execution_count": null,
      "outputs": []
    }
  ]
}